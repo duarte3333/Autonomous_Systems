{
 "cells": [
  {
   "cell_type": "markdown",
   "id": "9735d5ab",
   "metadata": {},
   "source": [
    "The ArUco Markers used were generated in the following website:\n",
    "\n",
    "https://chev.me/arucogen/"
   ]
  },
  {
   "cell_type": "code",
   "execution_count": 10,
   "id": "89f7ddfc",
   "metadata": {},
   "outputs": [],
   "source": [
    "import cv2\n",
    "import numpy as np\n",
    "import os\n",
    "import imageio"
   ]
  },
  {
   "cell_type": "code",
   "execution_count": 11,
   "id": "b074bccc",
   "metadata": {},
   "outputs": [],
   "source": [
    "#ArUco detector Initialization \n",
    "\n",
    "dictionary = cv2.aruco.getPredefinedDictionary(cv2.aruco.DICT_4X4_100) \n",
    "\n",
    "#Do not change the tag used (cv2.aruco.DICT_4X4_100), only if we change the ArUcos we're using (and thus their tags) \n",
    "\n",
    "parameters =  cv2.aruco.DetectorParameters()\n",
    "detector = cv2.aruco.ArucoDetector(dictionary, parameters)\n"
   ]
  },
  {
   "cell_type": "code",
   "execution_count": 12,
   "id": "3ac260ba",
   "metadata": {},
   "outputs": [],
   "source": [
    "#In this section you can see if you're sucessfully reading an image \n",
    "\n",
    "image = imageio.v2.imread(os.path.abspath('Screenshot_3.png')) \n",
    "if image is not None:\n",
    "    cv2.imshow('Image', image)\n",
    "    cv2.waitKey(0)  # Wait for any key press\n",
    "    cv2.destroyAllWindows()\n",
    "else:\n",
    "    print(\"Image not found or cannot be read\")\n"
   ]
  },
  {
   "cell_type": "code",
   "execution_count": 13,
   "id": "8f9136b9",
   "metadata": {},
   "outputs": [],
   "source": [
    "#In this section you can apply the ArUco detector to the previous read image \n",
    "\n",
    "image = imageio.v2.imread(os.path.abspath('Screenshot_3.png'))\n",
    "if image is not None:\n",
    "    gray = cv2.cvtColor(image, cv2.COLOR_BGR2GRAY)\n",
    "    corners, ids, rejectedImgPoints = cv2.aruco.detectMarkers(gray, dictionary, parameters=parameters)\n",
    "    \n",
    "    if ids is not None and len(ids) > 0:\n",
    "        for i in range(len(ids)):\n",
    "            marker_corners = corners[i][0]\n",
    "\n",
    "            cv2.polylines(image, [np.int32(marker_corners)], True, (0, 255, 0), 2) #Bounding Box\n",
    "            \n",
    "            #ID of the marker \n",
    "            cv2.putText(image, str(ids[i][0]), (int(marker_corners[0][0]-10),int(marker_corners[0][1])-10), cv2.FONT_HERSHEY_SIMPLEX, 2, (0, 255, 0), 3)\n",
    "        cv2.imshow('Image', image)\n",
    "        cv2.waitKey(0)  # Wait for any key press\n",
    "        cv2.destroyAllWindows()\n",
    "    else:\n",
    "        print(\"No ArUco markers detected in the image\")\n",
    "\n",
    "else:\n",
    "    print(\"Image not found or cannot be read\")"
   ]
  },
  {
   "cell_type": "code",
   "execution_count": 14,
   "id": "5eb9a698",
   "metadata": {
    "scrolled": true
   },
   "outputs": [],
   "source": [
    "#In this section you can test the ArUco detector in real time \n",
    "\n",
    "cap = cv2.VideoCapture(0)  \n",
    "while True:\n",
    "    ret, frame = cap.read()\n",
    "    if not ret:\n",
    "        break\n",
    "    gray = cv2.cvtColor(frame, cv2.COLOR_BGR2GRAY)\n",
    "    corners, ids, rejectedImgPoints = cv2.aruco.detectMarkers(gray, dictionary, parameters=parameters)\n",
    "\n",
    "    if ids is not None and len(ids) > 0:\n",
    "        for i in range(len(ids)):\n",
    "            marker_corners = corners[i][0]\n",
    "            \n",
    "            cv2.polylines(frame, [np.int32(marker_corners)], True, (0, 255, 0), 2) #Bounding Box\n",
    "            \n",
    "            #ID of the marker \n",
    "            cv2.putText(frame, str(ids[i][0]), (int(marker_corners[0][0]-10),int(marker_corners[0][1])-10), cv2.FONT_HERSHEY_SIMPLEX, 1.5, (0, 255, 0), 3)\n",
    "        \n",
    "    cv2.imshow('Image', frame)\n",
    "\n",
    "    if cv2.waitKey(1) != -1: #If any key is pressed\n",
    "        cv2.destroyAllWindows()\n",
    "        break\n",
    "        \n",
    "cap.release()"
   ]
  },
  {
   "cell_type": "code",
   "execution_count": 15,
   "id": "ec6e4c5f",
   "metadata": {},
   "outputs": [],
   "source": []
  },
  {
   "cell_type": "code",
   "execution_count": null,
   "id": "6822e9ba",
   "metadata": {},
   "outputs": [],
   "source": []
  }
 ],
 "metadata": {
  "kernelspec": {
   "display_name": "Python 3 (ipykernel)",
   "language": "python",
   "name": "python3"
  },
  "language_info": {
   "codemirror_mode": {
    "name": "ipython",
    "version": 3
   },
   "file_extension": ".py",
   "mimetype": "text/x-python",
   "name": "python",
   "nbconvert_exporter": "python",
   "pygments_lexer": "ipython3",
   "version": "3.8.5"
  }
 },
 "nbformat": 4,
 "nbformat_minor": 5
}
