{
 "cells": [
  {
   "cell_type": "markdown",
   "id": "9735d5ab",
   "metadata": {},
   "source": [
    "The ArUco Markers used were generated in the following website:\n",
    "\n",
    "https://chev.me/arucogen/"
   ]
  },
  {
   "cell_type": "code",
   "execution_count": 5,
   "id": "89f7ddfc",
   "metadata": {},
   "outputs": [],
   "source": [
    "import cv2\n",
    "import numpy as np\n",
    "import os\n",
    "import imageio\n",
    "\n",
    "dist =[0.1639958233797625, -0.271840030972792, 0.001055841660100477, -0.00166555973740089, 0.0]\n",
    "K = [322.0704122808738, 0.0, 199.2680620421962, 0.0, 320.8673986158544, 155.2533082600705, 0.0, 0.0, 1.0]\n",
    "mtx = np.array(K).reshape(3, 3)\n",
    "dist = np.array(dist).reshape(1,5)\n",
    "\n",
    "#ArUco detector Initialization \n",
    "\n",
    "dictionary = cv2.aruco.getPredefinedDictionary(cv2.aruco.DICT_4X4_100) \n",
    "\n",
    "#Do not change the tag used (cv2.aruco.DICT_4X4_100), only if we change the ArUcos we're using (and thus their tags) \n",
    "\n",
    "parameters =  cv2.aruco.DetectorParameters()\n",
    "detector = cv2.aruco.ArucoDetector(dictionary, parameters)"
   ]
  },
  {
   "cell_type": "code",
   "execution_count": 6,
   "id": "3ac260ba",
   "metadata": {},
   "outputs": [],
   "source": [
    "#In this section you can see if you're sucessfully reading an image \n",
    "\n",
    "image = imageio.v2.imread(os.path.abspath('Screenshot_3.png')) \n",
    "if image is not None:\n",
    "    cv2.imshow('Image', image)\n",
    "    cv2.waitKey(0)  # Wait for any key press\n",
    "    cv2.destroyAllWindows()\n",
    "else:\n",
    "    print(\"Image not found or cannot be read\")\n"
   ]
  },
  {
   "cell_type": "code",
   "execution_count": 93,
   "id": "8f9136b9",
   "metadata": {},
   "outputs": [],
   "source": [
    "#In this section you can apply the ArUco detector to the previous read image \n",
    "\n",
    "image = imageio.v2.imread(os.path.abspath('Screenshot_3.png'))\n",
    "if image is not None:\n",
    "    gray = cv2.cvtColor(image, cv2.COLOR_BGR2GRAY)\n",
    "    corners, ids, rejectedImgPoints = cv2.aruco.detectMarkers(gray, dictionary, parameters=parameters)\n",
    "    if ids is not None and len(ids) > 0:\n",
    "        for i in range(len(ids)):\n",
    "            marker_corners = corners[i][0]\n",
    "\n",
    "            cv2.polylines(image, [np.int32(marker_corners)], True, (0, 255, 0), 2) #Bounding Box\n",
    "            rvec , tvec, _ = cv2.aruco.estimatePoseSingleMarkers(corners, 0.1, mtx, dist)\n",
    "            \n",
    "            #ID of the marker \n",
    "            cv2.putText(image, str(ids[i][0]), (int(marker_corners[0][0]-10),int(marker_corners[0][1])-10), cv2.FONT_HERSHEY_SIMPLEX, 2, (0, 255, 0), 3)\n",
    "            cv2.putText(image, str(round(tvec[0][0][2],5)), (int(marker_corners[2][0]-100),int(marker_corners[2][1])+60), cv2.FONT_HERSHEY_SIMPLEX, 2, (0, 0, 255), 3)\n",
    "        cv2.imshow('Image', image)\n",
    "        cv2.waitKey(0)  # Wait for any key press\n",
    "        cv2.destroyAllWindows()\n",
    "    else:\n",
    "        print(\"No ArUco markers detected in the image\")\n",
    "\n",
    "else:\n",
    "    print(\"Image not found or cannot be read\")"
   ]
  },
  {
   "cell_type": "code",
   "execution_count": 42,
   "id": "5eb9a698",
   "metadata": {
    "scrolled": true
   },
   "outputs": [],
   "source": [
    "#In this section you can test the ArUco detector in real time \n",
    "x_axis = [1,0,0]\n",
    "cap = cv2.VideoCapture(0)  \n",
    "while True:\n",
    "    ret, frame = cap.read()\n",
    "    if not ret:\n",
    "        break\n",
    "    gray = cv2.cvtColor(frame, cv2.COLOR_BGR2GRAY)\n",
    "    corners, ids, rejectedImgPoints = cv2.aruco.detectMarkers(gray, dictionary, parameters=parameters)\n",
    "\n",
    "    if ids is not None and len(ids) > 0:\n",
    "        for i in range(len(ids)):\n",
    "            marker_corners = corners[i][0]\n",
    "            \n",
    "            cv2.polylines(frame, [np.int32(marker_corners)], True, (0, 255, 0), 2) #Bounding Box\n",
    "            \n",
    "            rvec , tvec, _ = cv2.aruco.estimatePoseSingleMarkers(corners[i], 0.1, mtx, dist)\n",
    "                        \n",
    "            axisPoints, _ = cv2.projectPoints(np.float32([[0,0,0], [1,0,0], [0,1,0], [0,0,1]]), rvec, tvec, mtx, dist)\n",
    "        \n",
    "            # Draw the axis lines\n",
    "            #cv2.line(frame, tuple(axisPoints[0].astype(int).ravel()), tuple(axisPoints[1].astype(int).ravel()), (0,0,255), 3) # x-axis (red)\n",
    "            #cv2.line(frame, tuple(axisPoints[0].astype(int).ravel()), tuple(axisPoints[2].astype(int).ravel()), (0,255,0), 3) # y-axis (green)\n",
    "            #cv2.line(frame, tuple(axisPoints[0].astype(int).ravel()), tuple(axisPoints[3].astype(int).ravel()), (255,0,0), 3) # z-axis (blue)\n",
    "            \n",
    "            #Rotation relative to the marker\n",
    "            Rot, _ = cv2.Rodrigues(rvec)\n",
    "            x = Rot.dot(x_axis)\n",
    "            theta = np.arccos(np.dot(np.transpose(x_axis),x)/(np.linalg.norm(x_axis)*np.linalg.norm(x)))\n",
    "            \n",
    "            #ID of the marker \n",
    "            cv2.putText(frame, str(ids[i][0]), (int(marker_corners[0][0]-10),int(marker_corners[0][1])-10), cv2.FONT_HERSHEY_SIMPLEX, 1, (0, 255, 0), 3)\n",
    "            cv2.putText(frame, str(round(tvec[0][0][2],5)), (int(marker_corners[2][0]-80),int(marker_corners[2][1])+45), cv2.FONT_HERSHEY_SIMPLEX, 1, (0, 0, 255), 3)\n",
    "            cv2.putText(frame, 'ang='+str(round(theta,5)), (int(marker_corners[1][0]-70),int(marker_corners[1][1])-10), cv2.FONT_HERSHEY_SIMPLEX, 1, (0, 255, 255 ), 3)\n",
    "    cv2.imshow('Image', frame)\n",
    "\n",
    "    if cv2.waitKey(1) != -1: #If any key is pressed\n",
    "        cv2.destroyAllWindows()\n",
    "        break\n",
    "        \n",
    "cap.release()"
   ]
  },
  {
   "cell_type": "code",
   "execution_count": null,
   "id": "27d94a1e",
   "metadata": {},
   "outputs": [],
   "source": []
  }
 ],
 "metadata": {
  "kernelspec": {
   "display_name": "Python 3 (ipykernel)",
   "language": "python",
   "name": "python3"
  },
  "language_info": {
   "codemirror_mode": {
    "name": "ipython",
    "version": 3
   },
   "file_extension": ".py",
   "mimetype": "text/x-python",
   "name": "python",
   "nbconvert_exporter": "python",
   "pygments_lexer": "ipython3",
   "version": "3.9.7"
  }
 },
 "nbformat": 4,
 "nbformat_minor": 5
}
